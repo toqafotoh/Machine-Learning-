{
 "cells": [
  {
   "cell_type": "markdown",
   "id": "f30a9b5a",
   "metadata": {},
   "source": [
    "### Q_1: create 2D-array that contain even numbers between 0-18...??"
   ]
  },
  {
   "cell_type": "code",
   "execution_count": 7,
   "id": "8f1f20b3",
   "metadata": {},
   "outputs": [],
   "source": [
    "import numpy as np"
   ]
  },
  {
   "cell_type": "code",
   "execution_count": 9,
   "id": "95abd3ef",
   "metadata": {
    "ExecuteTime": {
     "end_time": "2023-08-22T05:10:22.517425Z",
     "start_time": "2023-08-22T05:10:22.499046Z"
    }
   },
   "outputs": [
    {
     "data": {
      "text/plain": [
       "array([[ 0,  2,  4,  6,  8],\n",
       "       [10, 12, 14, 16, 18]])"
      ]
     },
     "execution_count": 9,
     "metadata": {},
     "output_type": "execute_result"
    }
   ],
   "source": [
    "toto = []\n",
    "for i in range(0,19):\n",
    "    if i%2 == 0:\n",
    "        toto.append(i)\n",
    "toto = np.array(toto).reshape(2,-1)\n",
    "toto"
   ]
  },
  {
   "cell_type": "code",
   "execution_count": 8,
   "id": "3c989abd",
   "metadata": {},
   "outputs": [
    {
     "data": {
      "text/plain": [
       "array([[ 0,  2,  4,  6,  8],\n",
       "       [10, 12, 14, 16, 18]])"
      ]
     },
     "execution_count": 8,
     "metadata": {},
     "output_type": "execute_result"
    }
   ],
   "source": [
    "hehe = np.array([ v for v in range(0,19) if v%2==0])\n",
    "hehe = hehe.reshape(2,-1)\n",
    "hehe"
   ]
  },
  {
   "cell_type": "code",
   "execution_count": 10,
   "id": "2c3974dd",
   "metadata": {},
   "outputs": [
    {
     "data": {
      "text/plain": [
       "array([[ 0,  2,  4,  6,  8],\n",
       "       [10, 12, 14, 16, 18]])"
      ]
     },
     "execution_count": 10,
     "metadata": {},
     "output_type": "execute_result"
    }
   ],
   "source": [
    "loool = np.arange(0,19,2) \n",
    "loool = loool.reshape(2,-1)\n",
    "loool"
   ]
  },
  {
   "cell_type": "markdown",
   "id": "168da3bc",
   "metadata": {},
   "source": [
    "### Q_2: Replace the negative values with 0 in random array that have values in range (-6,6)"
   ]
  },
  {
   "cell_type": "code",
   "execution_count": 45,
   "id": "f620e207",
   "metadata": {
    "ExecuteTime": {
     "end_time": "2023-08-22T05:10:31.301275Z",
     "start_time": "2023-08-22T05:10:31.295288Z"
    }
   },
   "outputs": [
    {
     "name": "stdout",
     "output_type": "stream",
     "text": [
      "before: [ 0 -4  5 -6  0 -1 -1  0 -1  2]\n",
      "after: [0 0 5 0 0 0 0 0 0 2]\n"
     ]
    }
   ],
   "source": [
    "koko = np.random.randint(-6,6,size=10)\n",
    "print(f\"before: {koko}\")\n",
    "koko[koko<0]=0\n",
    "print(f\"after: {koko}\")"
   ]
  },
  {
   "cell_type": "markdown",
   "id": "fe9108ba",
   "metadata": {},
   "source": [
    "#### OR"
   ]
  },
  {
   "cell_type": "code",
   "execution_count": 46,
   "id": "d80517ac",
   "metadata": {},
   "outputs": [
    {
     "name": "stdout",
     "output_type": "stream",
     "text": [
      "before: [ 2  3  2 -5 -1  4 -2 -1  2 -3]\n",
      "after: [2 3 2 0 0 4 0 0 2 0]\n"
     ]
    }
   ],
   "source": [
    "dodo = np.random.randint(-6,6,size=10)\n",
    "print(f\"before: {dodo}\")\n",
    "\n",
    "for i in range(10) :\n",
    "    if dodo[i] < 0 :\n",
    "        dodo[i]=0\n",
    "print(f\"after: {dodo}\")"
   ]
  },
  {
   "cell_type": "markdown",
   "id": "7bb81705",
   "metadata": {},
   "source": [
    "### Q_3 :  How to compute ((A+B)*(-A/2)) ?  where A,B are random arrays with dimension (3,3) "
   ]
  },
  {
   "cell_type": "code",
   "execution_count": 36,
   "id": "34295440",
   "metadata": {},
   "outputs": [],
   "source": [
    "A = np.random.random(size=(3,3))\n",
    "B = np.random.random(size=(3,3))"
   ]
  },
  {
   "cell_type": "code",
   "execution_count": 39,
   "id": "9d71b7ce",
   "metadata": {},
   "outputs": [
    {
     "data": {
      "text/plain": [
       "array([[-0.62494108, -0.37177161, -0.41468995],\n",
       "       [-0.20948529, -0.01135809, -0.04631284],\n",
       "       [-0.12785761, -0.04072251, -0.0170935 ]])"
      ]
     },
     "execution_count": 39,
     "metadata": {},
     "output_type": "execute_result"
    }
   ],
   "source": [
    "((A+B)*(-A/2))"
   ]
  },
  {
   "cell_type": "code",
   "execution_count": 40,
   "id": "d96934b3",
   "metadata": {},
   "outputs": [
    {
     "data": {
      "text/plain": [
       "array([[-0.62494108, -0.37177161, -0.41468995],\n",
       "       [-0.20948529, -0.01135809, -0.04631284],\n",
       "       [-0.12785761, -0.04072251, -0.0170935 ]])"
      ]
     },
     "execution_count": 40,
     "metadata": {},
     "output_type": "execute_result"
    }
   ],
   "source": [
    "# وفي طريقة بدائية اوي لو عايزين نصدع نفسنا  \n",
    "(np.add(A,B))*(np.divide(-A,2))"
   ]
  },
  {
   "cell_type": "markdown",
   "id": "d80808c0",
   "metadata": {},
   "source": [
    "### Q_4: How to concatenate two arrays horizontally..?"
   ]
  },
  {
   "cell_type": "code",
   "execution_count": 49,
   "id": "9ef5a8da",
   "metadata": {},
   "outputs": [
    {
     "data": {
      "text/plain": [
       "array([0, 0, 5, 0, 0, 0, 0, 0, 0, 2, 2, 3, 2, 0, 0, 4, 0, 0, 2, 0])"
      ]
     },
     "execution_count": 49,
     "metadata": {},
     "output_type": "execute_result"
    }
   ],
   "source": [
    "D = np.concatenate((koko,dodo),axis=0)\n",
    "D"
   ]
  },
  {
   "cell_type": "markdown",
   "id": "d785a059",
   "metadata": {},
   "source": [
    "#### Q_5: Create a random vector of size 3x3 and sort values in Its columns"
   ]
  },
  {
   "cell_type": "code",
   "execution_count": 51,
   "id": "e5d121fa",
   "metadata": {},
   "outputs": [
    {
     "data": {
      "text/plain": [
       "array([[18, 61, 27],\n",
       "       [90, 62, 35],\n",
       "       [57, 40, 42]])"
      ]
     },
     "execution_count": 51,
     "metadata": {},
     "output_type": "execute_result"
    }
   ],
   "source": [
    "# vector and multidimensional?🤨\n",
    "m= np.random.randint(1,100,size=(3,3))\n",
    "m"
   ]
  },
  {
   "cell_type": "code",
   "execution_count": 53,
   "id": "415c058f",
   "metadata": {},
   "outputs": [
    {
     "data": {
      "text/plain": [
       "array([[18, 40, 27],\n",
       "       [57, 61, 35],\n",
       "       [90, 62, 42]])"
      ]
     },
     "execution_count": 53,
     "metadata": {},
     "output_type": "execute_result"
    }
   ],
   "source": [
    "np.sort(m,axis=0)"
   ]
  }
 ],
 "metadata": {
  "kernelspec": {
   "display_name": "Python 3 (ipykernel)",
   "language": "python",
   "name": "python3"
  },
  "language_info": {
   "codemirror_mode": {
    "name": "ipython",
    "version": 3
   },
   "file_extension": ".py",
   "mimetype": "text/x-python",
   "name": "python",
   "nbconvert_exporter": "python",
   "pygments_lexer": "ipython3",
   "version": "3.9.12"
  }
 },
 "nbformat": 4,
 "nbformat_minor": 5
}
